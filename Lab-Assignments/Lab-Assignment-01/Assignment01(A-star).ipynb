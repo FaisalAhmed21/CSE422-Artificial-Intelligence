{
  "nbformat": 4,
  "nbformat_minor": 0,
  "metadata": {
    "colab": {
      "provenance": []
    },
    "kernelspec": {
      "name": "python3",
      "display_name": "Python 3"
    },
    "language_info": {
      "name": "python"
    }
  },
  "cells": [
    {
      "cell_type": "code",
      "execution_count": 6,
      "metadata": {
        "id": "AqoLtQCrB8qf",
        "colab": {
          "base_uri": "https://localhost:8080/"
        },
        "outputId": "c4000dd3-ab9b-4ed5-be18-e5b511eadff8"
      },
      "outputs": [
        {
          "output_type": "stream",
          "name": "stdout",
          "text": [
            "Initial node: Arad\n",
            "Target node: Bucharest\n",
            "[{('Arad', '366'): [('Zerind', '75'), ('Timisoara', '118'), ('Sibiu', '140')]}, {('Craiova', '160'): [('Dobreta', '120'), ('RimnicuVilcea', '146'), ('Pitesti', '138')]}, {('Eforie', '161'): [('Hirsova', '86')]}, {('Fagaras', '176'): [('Sibiu', '99'), ('Bucharest', '211')]}, {('Giurgiu', '77'): [('Bucharest', '90')]}, {('Mehadia', '241'): [('Lugoj', '70'), ('Dobreta', '75')]}, {('Neamt', '234'): [('lasi', '87')]}, {('Sibiu', '253'): [('Oradea', '151'), ('Arad', '140'), ('RimnicuVilcea', '80'), ('Fagaras', '99')]}, {('Oradea', '380'): [('Zerind', '71'), ('Sibiu', '151')]}, {('Pitesti', '100'): [('RimnicuVilcea', '97'), ('Craiova', '138'), ('Bucharest', '101')]}, {('RimnicuVilcea', '193'): [('Sibiu', '80'), ('Craiova', '146'), ('Pitesti', '97')]}, {('Dobreta', '242'): [('Mehadia', '75'), ('Craiova', '120')]}, {('Hirsova', '151'): [('Urziceni', '98'), ('Eforie', '86')]}, {('lasi', '226'): [('Vaslui', '92'), ('Neamt', '87')]}, {('Lugoj', '244'): [('Timisoara', '111'), ('Mehadia', '70')]}, {('Timisoara', '329'): [('Arad', '118'), ('Lugoj', '111')]}, {('Urziceni', '80'): [('Bucharest', '85'), ('Hirsova', '98'), ('Vaslui', '142')]}, {('Vaslui', '199'): [('Urziceni', '142'), ('lasi', '92')]}, {('Zerind', '374'): [('Oradea', '71'), ('Arad', '75')]}, {('Bucharest', '0'): [('Fagaras', '211'), ('Pitesti', '101'), ('Giurgiu', '90'), ('Urziceni', '85')]}]\n",
            "{'Arad': 366, 'Craiova': 160, 'Eforie': 161, 'Fagaras': 176, 'Giurgiu': 77, 'Mehadia': 241, 'Neamt': 234, 'Sibiu': 253, 'Oradea': 380, 'Pitesti': 100, 'RimnicuVilcea': 193, 'Dobreta': 242, 'Hirsova': 151, 'lasi': 226, 'Lugoj': 244, 'Timisoara': 329, 'Urziceni': 80, 'Vaslui': 199, 'Zerind': 374, 'Bucharest': 0}\n",
            "{'Arad': [('Zerind', 75), ('Timisoara', 118), ('Sibiu', 140)], 'Craiova': [('Dobreta', 120), ('RimnicuVilcea', 146), ('Pitesti', 138)], 'Eforie': [('Hirsova', 86)], 'Fagaras': [('Sibiu', 99), ('Bucharest', 211)], 'Giurgiu': [('Bucharest', 90)], 'Mehadia': [('Lugoj', 70), ('Dobreta', 75)], 'Neamt': [('lasi', 87)], 'Sibiu': [('Oradea', 151), ('Arad', 140), ('RimnicuVilcea', 80), ('Fagaras', 99)], 'Oradea': [('Zerind', 71), ('Sibiu', 151)], 'Pitesti': [('RimnicuVilcea', 97), ('Craiova', 138), ('Bucharest', 101)], 'RimnicuVilcea': [('Sibiu', 80), ('Craiova', 146), ('Pitesti', 97)], 'Dobreta': [('Mehadia', 75), ('Craiova', 120)], 'Hirsova': [('Urziceni', 98), ('Eforie', 86)], 'lasi': [('Vaslui', 92), ('Neamt', 87)], 'Lugoj': [('Timisoara', 111), ('Mehadia', 70)], 'Timisoara': [('Arad', 118), ('Lugoj', 111)], 'Urziceni': [('Bucharest', 85), ('Hirsova', 98), ('Vaslui', 142)], 'Vaslui': [('Urziceni', 142), ('lasi', 92)], 'Zerind': [('Oradea', 71), ('Arad', 75)], 'Bucharest': [('Fagaras', 211), ('Pitesti', 101), ('Giurgiu', 90), ('Urziceni', 85)]}\n"
          ]
        }
      ],
      "source": [
        "import heapq\n",
        "\n",
        "task_input = open('A_star input.txt', 'r')\n",
        "task_output = open('A_star output.txt', 'w')\n",
        "\n",
        "initial = input(\"Initial node: \")\n",
        "target = input(\"Target node: \")\n",
        "\n",
        "inputs = []\n",
        "\n",
        "for i in range(20):\n",
        "    inp_lines = task_input.readline().strip().split(\" \")\n",
        "    source_dest = {}\n",
        "\n",
        "    parent = (inp_lines[0], inp_lines[1])\n",
        "    childs = []\n",
        "\n",
        "    for i in range(2, len(inp_lines), 2):\n",
        "        if i + 1 < len(inp_lines):\n",
        "            child = (inp_lines[i], inp_lines[i + 1])\n",
        "            childs.append(child)\n",
        "\n",
        "    source_dest[parent] = childs\n",
        "    inputs.append(source_dest)\n",
        "print(inputs)\n",
        "\n",
        "heuristics = {}\n",
        "for i in inputs:\n",
        "    for j in i.keys():\n",
        "        heuristics[j[0]] = int(j[1])\n",
        "\n",
        "print(heuristics)\n",
        "\n",
        "task_input.close()\n",
        "\n",
        "graph = {}\n",
        "for entry in inputs:\n",
        "    for key, childrens in entry.items():\n",
        "        node = key[0]\n",
        "        if node not in graph:\n",
        "            graph[node] = []\n",
        "        for children in childrens:\n",
        "            graph[node].append((children[0], int(children[1])))\n",
        "print(graph)\n",
        "\n",
        "def a_star_algorithm(initial, target):\n",
        "    new_listt = []\n",
        "    heapq.heappush(new_listt, (heuristics[initial], 0, initial, [initial]))\n",
        "\n",
        "    visited = []\n",
        "\n",
        "    while new_listt:\n",
        "        i, cumulative_distance, present_node, route_taken = heapq.heappop(new_listt)\n",
        "\n",
        "        if present_node == target:\n",
        "            return route_taken, cumulative_distance\n",
        "\n",
        "        visited.append(present_node)\n",
        "\n",
        "        for children, distance in graph.get(present_node, []):\n",
        "            if children not in visited:\n",
        "                new_cumulative_distance = cumulative_distance + distance\n",
        "                total_priority = new_cumulative_distance + heuristics[children]\n",
        "                new_route = route_taken + [children]\n",
        "\n",
        "                children_in_new_listt = False\n",
        "                for item in new_listt:\n",
        "                    if item[2] == children:\n",
        "                        children_in_open_list = True\n",
        "                        if new_cumulative_distance < item[1]:\n",
        "                            new_listt.remove(item)\n",
        "                            heapq.heapify(new_listt)\n",
        "                            heapq.heappush(new_listt, (total_priority, new_cumulative_distance, children, new_route))\n",
        "                        break\n",
        "\n",
        "                if not children_in_new_listt:\n",
        "                    heapq.heappush(new_listt, (total_priority, new_cumulative_distance, children, new_route))\n",
        "\n",
        "    return [], float('inf')\n",
        "\n",
        "\n",
        "\n",
        "route, total_distance = a_star_algorithm(initial, target)\n",
        "\n",
        "if route:\n",
        "    task_output.write(f\"Route: {' -> '.join(route)}\\n\")\n",
        "    task_output.write(f\"Total Distance: {total_distance}\\n\")\n",
        "else:\n",
        "    task_output.write(\"NO PATH FOUND\\n\")\n",
        "\n"
      ]
    }
  ]
}
